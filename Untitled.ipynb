{
 "cells": [
  {
   "cell_type": "code",
   "execution_count": 2,
   "metadata": {},
   "outputs": [
    {
     "name": "stdout",
     "output_type": "stream",
     "text": [
      "Digite un número real -15.5\n",
      "El valor absoluto de x es  15.5\n"
     ]
    }
   ],
   "source": [
    "'''Ejercicio Nro 1'''\n",
    "\n",
    "x = float(input('Digite un número real '))\n",
    "# x debe ser flotante para permitir cualquier número, entero o decimal.\n",
    "\n",
    "if x >= 0 : # Si x es positivo, me imprimirá x\n",
    "    print('El valor absoluto de x es ', x)\n",
    "else: # Si x es negativo, me imprimirá -x\n",
    "    print('El valor absoluto de x es ', -x)"
   ]
  },
  {
   "cell_type": "code",
   "execution_count": 6,
   "metadata": {},
   "outputs": [
    {
     "name": "stdout",
     "output_type": "stream",
     "text": [
      "Digite un número entero: -24184625\n",
      "52648142"
     ]
    }
   ],
   "source": [
    "'''Ejercicio Nro 2'''\n",
    "N = int(input('Digite un número entero: '))\n",
    "\n",
    "if N < 0: # Si N es un entero negativo, se multiplicará por -1\n",
    "    N = N * (-1) \n",
    "    \n",
    "while N != 0: # Mientras N sea diferente de 0, se repitirá el siguiente ciclo\n",
    "    R = N % 10 # R será igual al residuo de N dividido 10\n",
    "    N //= 10 # N será igual a su división entera por 10\n",
    "    print(R, end='') # Terminado el ciclo, imprimirá las variables R, en orden\n",
    "#                     del primer R al último sacado del ciclo "
   ]
  },
  {
   "cell_type": "code",
   "execution_count": 8,
   "metadata": {},
   "outputs": [
    {
     "name": "stdout",
     "output_type": "stream",
     "text": [
      "Digite un número entero de tres dígitos 123\n",
      "El número 123  no contiene el dígito 8\n"
     ]
    }
   ],
   "source": [
    "'''Ejercicio Nro 3'''\n",
    "x = int(input('Digite un número entero de tres dígitos '))\n",
    "\n",
    "if abs(x)//100 > 0 and abs(x)//100<=9:\n",
    "# X debe ser un número entero de tres cifras, puede ser positivo o negativo,\n",
    "# si tiene más o tiene menos  de tres cifras, me dará ERROR\n",
    "    \n",
    "    Dígito1 = abs(x) // 100 # El primer digito será la división entera de x por 100\n",
    "    Residuo1 = abs(x) % 100 \n",
    "    \n",
    "    Dígito2 = Residuo1 // 10 \n",
    "    # El segundo digito será la división entera del Residuo1 por 10\n",
    "    \n",
    "    Dígito3 = Residuo1 % 10\n",
    "    # El tercer digito será el residuo del Residuo1 por 10\n",
    "\n",
    "    if Dígito1 == 8 or Dígito2 == 8 or Dígito3 == 8:\n",
    "        #Si alguno de los tres dígitos de x, es igual a 8, imprimirá:\n",
    "        print('El número ', x , 'contiene el dígito 8')\n",
    "    else: #Si ninguno de los dígitos es 8, imprimirá que no lo contiene\n",
    "        print('El número', x, ' no contiene el dígito 8')\n",
    "\n",
    "else:\n",
    "    print('ERROR, digite un número entero de tres dígitos')"
   ]
  },
  {
   "cell_type": "code",
   "execution_count": null,
   "metadata": {},
   "outputs": [],
   "source": [
    "'''Ejercicio Nro 4'''\n",
    "while True: # El ciclo Mientras \n",
    "    try: # try - except se usó para los casos en que el valor ingresado fuese\n",
    "         #menor a 0\n",
    "        x = int(input('Digite un número entero positivo: '))\n",
    "        if x > 0: # if se usó para los casos en que el valor ingresado fuese\n",
    "         #menor a 0, Si el valor ingresado es positivo, se procederá \n",
    "            break # normalmente y se romperá el ciclo while\n",
    "        else:\n",
    "            print('No se permite el ingreso de enteros negativos')\n",
    "    except ValueError:\n",
    "            print('No es entero positivo')\n",
    "\n",
    "suma = 0 # Se definió un contador llamado suma y se le dió un valor de cero\n",
    "\n",
    "while x != 0: # Mientras el valor ingresado x fuera distinto de cero\n",
    "    if ((x%10)%2)==0: # Se hallaría el residuo entre 2, del residuo entre 10 \n",
    "                      # de x, y se preguntía si es igual a cero\n",
    "        suma += (x%10) # Suma será igual a cada valor X%10 que sea par\n",
    "                       # sacado del ciclo y sumado con el anterior\n",
    "    x //= 10 # Para finalizar, x debe ser igual, al último x sacado del ciclo\n",
    "             # divido  por 10\n",
    "\n",
    "print(f'la suma de sus digitos pares es {suma} ')"
   ]
  },
  {
   "cell_type": "code",
   "execution_count": null,
   "metadata": {},
   "outputs": [],
   "source": [
    "'''Ejercicio Nro 5'''\n",
    "while True: # El ciclo Mientras \n",
    "    try: # try - except usó para volver a repetir el ciclo en caso de error\n",
    "         # sin necesidad de empezarlo desde el principio \n",
    "        N = int(input('Digite un número entero: ')) \n",
    "        NS = N # NS simplemente se define para poder imprimirlo al final\n",
    "        if N < 0: # if se usó para los casos en que el valor ingresado fuese\n",
    "         # menor a 0, para estos casos se multiplicó por -1 para hacerlos \n",
    "            N *= -1 #positivos\n",
    "        break # Si N es positivo, se rompe el ciclo   \n",
    "    except ValueError: # Para los errores, se imprimió lo siguiente\n",
    "        print('Únicamente se permiten números enteros')  \n",
    "        \n",
    "ContFive = 0 # Se definió un contador para la cantidad de 5, otro para los 5 \n",
    "ContFiveSeg = 0 # seguidos y una varible definida como el número anterior\n",
    "Back = 0\n",
    "\n",
    "while N > 0: # Mientras N sea mayor a 0\n",
    "    Val = N % 10 # Val es el residuo de N dividido 10, su último dígito\n",
    "    if Val == 5: # Si Val es igual a 5, a ContFive se le sumará 1\n",
    "        ContFive += 1\n",
    "        if Val == 5 and Back == 5: # Y si Val es igual a 5 y Back, osea el \n",
    "            ContFiveSeg += ContFive # anterior Val, también es igual a 5, \n",
    "            ContFive = 0 # ContFiveSeg será igual a ContFive\n",
    "    else: #Si por el contrario, Val es diferente de 5, entonces Val será igual \n",
    "        Back = Val # a Back y el ContFive seguirá siendo 0\n",
    "        ContFive = 0\n",
    "    Back = Val # Back y Val siempre son igual\n",
    "    N = N // 10\n",
    "if ContFiveSeg > 0:\n",
    "    print('En el número',NS,' hay ',ContFiveSeg,' cincos consecutivos')\n",
    "else: \n",
    "    print('En el número',NS,' no hay cincos consecutivos')"
   ]
  },
  {
   "cell_type": "code",
   "execution_count": null,
   "metadata": {},
   "outputs": [],
   "source": [
    "'''Ejercicio Nro 6'''\n",
    "def Fibonacci(x): # Se define la función Fibonacci\n",
    "    pre = 0 # Se le dará valor a las variables pre y pos, que son los dos \n",
    "    pos = 1 # primeros números de Fibonacci\n",
    "    pert = False # Se debe definir una variable de False para posteriormente\n",
    "                 # hacerla True\n",
    "    \n",
    "    while (pre <= x): # Mientras pre sea menor a x, se debe seguir el siguiente\n",
    "                      # ciclo\n",
    "        \n",
    "        if(pre == x): # Se pregunta si pre es igual a x\n",
    "            pert = True # Si es igual, me devolverá a pert como True\n",
    "        \n",
    "        suma = pre + pos # Este ciclo se repetirá infinitamente, mirando si x\n",
    "        pre = pos        # pertenece a alguno\n",
    "        pos = suma\n",
    "    \n",
    "    return(pert) # Finalmente, si pertenece me dirá True, sino, False\n",
    "    \n",
    "x = int(input('Ingrese un número entero: '))\n",
    "\n",
    "if(Fibonacci(x)): # Si Fibonacci evaluado en x, cumple el anterior ciclo\n",
    "    print(x,' sí pertenece a la serie de Fibonacci') # Será True\n",
    "else:\n",
    "    print(x,' no pertenece a la serie de Fibonacci') # Sino, será False"
   ]
  },
  {
   "cell_type": "code",
   "execution_count": 14,
   "metadata": {},
   "outputs": [
    {
     "name": "stdout",
     "output_type": "stream",
     "text": [
      "Digite un número entero positivo: 1542545\n",
      "La lista creada es:  [5, 4, 5, 2, 4, 5, 1]\n",
      "Los dígitos que se repiten son [5, 4, 5, 4, 5]\n"
     ]
    }
   ],
   "source": [
    "'''Ejercicio Nro 7'''\n",
    "Lista = [] # Se definen dos listas vacías\n",
    "Lista2 = []\n",
    "\n",
    "x = int(input('Digite un número entero positivo: '))\n",
    "\n",
    "if x < 0: # x debe ser positivo, de lo contrarió, será un ERROR\n",
    "    print ('El número no es entero positivo')\n",
    "else:  \n",
    "    a = 0 # Se define un contador a y se le da un valor de 0\n",
    "    \n",
    "    while x > 0: # Mientras x sea mayor a 0, se sacará el residuo de x divido \n",
    "        a = x % 10 # 10, se almacenará en la variable a y se agregará a la           \n",
    "        Lista.append(a) # lista vacía Lista\n",
    "        x //= 10 #x debe dividirse exactamente entre 10 para el siguiente ciclo\n",
    "        \n",
    "    print('La lista creada es: ',Lista) # Se imprime la lista de dígitos de x\n",
    "    \n",
    "    if Lista != []: # Si la lista Lista no es vacía, se seguirá el siguiente \n",
    "        for i in Lista:# ciclo: Cada término de Lista se contará\n",
    "            Lista.count(i)\n",
    "            if (Lista.count(i) > 1): # Si dicho término está más de una vez\n",
    "                c = Lista2.append(i) # dicho término se agregará a Lista2\n",
    "        if Lista2 != []:\n",
    "            print('Los dígitos que se repiten son',Lista2)\n",
    "    else:\n",
    "        print('El número ',x,'no contiene ningún dígito que se repite')\n",
    "    if Lista2 == []:\n",
    "        print('El número ',x,'no contiene ningún dígito que se repite')"
   ]
  },
  {
   "cell_type": "code",
   "execution_count": 15,
   "metadata": {},
   "outputs": [
    {
     "name": "stdout",
     "output_type": "stream",
     "text": [
      "La Lista 1 es:  [0, 3, 6, 9, 12, 15, 18, 21, 24, 27, 30, 33, 36, 39, 42]\n",
      "La Lista 2 es:  [60, 64, 68, 72, 76, 80, 84, 88, 92, 96, 100, 104, 108, 112, 116, 120, 124, 128, 132, 136, 140, 144, 148, 152, 156, 160, 164, 168, 172, 176, 180, 184, 188, 192, 196, 200, 204, 208, 212, 216, 220, 224, 228, 232, 236, 240, 244, 248, 252, 256, 260, 264, 268, 272, 276, 280, 284, 288, 292, 296, 300, 304, 308, 312, 316, 320, 324, 328, 332, 336, 340, 344, 348, 352, 356, 360, 364, 368, 372, 376, 380, 384, 388, 392, 396, 400]\n",
      "La Lista Final es:  [0, 3, 6, 9, 12, 15, 18, 21, 24, 27, 30, 33, 36, 39, 42, 60, 64, 68, 72, 76, 80, 84, 88, 92, 96, 100, 104, 108, 112, 116, 120, 124, 128, 132, 136, 140, 144, 148, 152, 156, 160, 164, 168, 172, 176, 180, 184, 188, 192, 196, 200, 204, 208, 212, 216, 220, 224, 228, 232, 236, 240, 244, 248, 252, 256, 260, 264, 268, 272, 276, 280, 284, 288, 292, 296, 300, 304, 308, 312, 316, 320, 324, 328, 332, 336, 340, 344, 348, 352, 356, 360, 364, 368, 372, 376, 380, 384, 388, 392, 396, 400]\n"
     ]
    }
   ],
   "source": [
    "'''Ejercicio Nro 8'''\n",
    "Lista1 = []\n",
    "Lista2 = []\n",
    "ListaFinal = []\n",
    "\n",
    "for i in range(0,15):\n",
    "    Lista1.append(3*i)\n",
    "\n",
    "for k in range (15,100+1):\n",
    "    Lista2.append(4*k)\n",
    "\n",
    "ListaFinal = Lista1 + Lista2\n",
    "\n",
    "print('La Lista 1 es: ',Lista1)\n",
    "print('La Lista 2 es: ',Lista2)\n",
    "print('La Lista Final es: ', ListaFinal)"
   ]
  },
  {
   "cell_type": "code",
   "execution_count": 16,
   "metadata": {},
   "outputs": [
    {
     "name": "stdout",
     "output_type": "stream",
     "text": [
      "Ingrese la coordenada X del centro del cículo uno 5\n",
      "Ingrese la coordenada Y del centro del cículo uno 5\n",
      "Ingrese el valor del radio del círculo uno 26\n",
      "Ingrese la coordenada X del centro del cículo dos 15\n",
      "Ingrese la coordenada Y del centro del cículo dos 2\n",
      "Ingrese el valor del radio del círculo dos 65\n",
      "Ingrese la coordenada X del punto (a,b), a = 15\n",
      "Ingrese la coordenada Y del punto (a,b), b = -52\n",
      "El punto ( 15.0 , -52.0 ) está dentro del círculo dos\n"
     ]
    }
   ],
   "source": [
    "'''Ejercicio Nro 9'''\n",
    "x1 = float(input('Ingrese la coordenada X del centro del cículo uno '))\n",
    "y1 = float(input('Ingrese la coordenada Y del centro del cículo uno '))\n",
    "R1 = float(input('Ingrese el valor del radio del círculo uno '))\n",
    "\n",
    "x2 = float(input('Ingrese la coordenada X del centro del cículo dos '))\n",
    "y2 = float(input('Ingrese la coordenada Y del centro del cículo dos '))\n",
    "R2 = float(input('Ingrese el valor del radio del círculo dos '))\n",
    "\n",
    "if R1 < 0 or R2 < 0:\n",
    "    print('ERROR, los radios deben ser positivos')\n",
    "    \n",
    "else:\n",
    "    a = float(input('Ingrese la coordenada X del punto (a,b), a = '))\n",
    "    b = float(input('Ingrese la coordenada Y del punto (a,b), b = '))\n",
    "    \n",
    "    R = (a**2 + b**2)**0.5\n",
    "    \n",
    "    if R < R1 and R < R2:\n",
    "        print ('El punto (',a,',',b,') está dentro de ambos círculo')\n",
    "        \n",
    "    else:\n",
    "        if R < R1 and R > R2:\n",
    "            print ('El punto (',a,',',b,') está dentro del círculo uno')\n",
    "        if R > R1 and R < R2:\n",
    "            print ('El punto (',a,',',b,') está dentro del círculo dos')\n",
    "        if R > R1 and R > R2:\n",
    "            print ('El punto (',a,',',b,') está fuera de ambos círculos')\n",
    "        "
   ]
  },
  {
   "cell_type": "code",
   "execution_count": 17,
   "metadata": {},
   "outputs": [
    {
     "name": "stdout",
     "output_type": "stream",
     "text": [
      "Ingrese una cadena de texto sin números: jnkdsvksjkfsdijnfsenajv scanifcs jesc\n",
      "JNKDSVKSJKFSDIJNFSENAJV SCANIFCS JESC\n"
     ]
    }
   ],
   "source": [
    "'''Ejercicio Nro 10'''\n",
    "MIN = 'aábcdeéfghiíjklmnñoópqrstuúüvwxyzAÁBCDEÉFGHIÍJKLMNÑOÓPQRSTUÚÜVWXYZ '\n",
    "MAY = 'AÁBCDEÉFGHIÍJKLMNÑOÓPQRSTUÚÜVWXYZAÁBCDEÉFGHIÍJKLMNÑOÓPQRSTUÚÜVWXYZ '\n",
    "#MIN y MAY son dos cadenas de texto, con todas las posibles letras\n",
    " \n",
    "Cambio = str.maketrans(MIN,MAY) #Convertirá los comandos de MIN a MAY\n",
    "Palabra = str(input('Ingrese una cadena de texto sin números: '))\n",
    "#Me devolverá la cadena ingresada en letras de la cadena MIN, en letras de MAY\n",
    "\n",
    "print(Palabra.translate(Cambio)) \n",
    "#Me imprime la cadena Palabra, en letras de MAY"
   ]
  },
  {
   "cell_type": "code",
   "execution_count": null,
   "metadata": {},
   "outputs": [],
   "source": [
    "'''Ejercicio Nro 13'''\n",
    "Cadena = input(\"Ingrese una cadena de texto: \")\n",
    "\n",
    "ABC = \"\"\n",
    "XYZ = \"\"\n",
    "Tp = ()\n",
    "Sp = \"\"\n",
    "for k in Cadena:\n",
    "    XYZ += k\n",
    "    Tp = Tp + (XYZ,)\n",
    "    XYZ = \"\"\n",
    "\n",
    "x = 0\n",
    "y = 0\n",
    "z = 0\n",
    "\n",
    "for z in range(0, len(Tp)):\n",
    "    if x == y:\n",
    "        if Tp[z] == \" \":\n",
    "            ABC = ABC\n",
    "        else:\n",
    "            ABC = ABC + Tp[z]\n",
    "            print(ABC.center(100))\n",
    "            ABC = \"\"\n",
    "            x = 0\n",
    "            y += 2\n",
    "    else:\n",
    "        if Tp[z] == \" \":\n",
    "            ABC = ABC\n",
    "        else:\n",
    "            ABC = ABC + Tp[z]\n",
    "            x += 1\n",
    "    z += 1\n",
    "print(ABC.center(100))"
   ]
  },
  {
   "cell_type": "code",
   "execution_count": null,
   "metadata": {},
   "outputs": [],
   "source": [
    "'''Ejercicio Nro 14'''\n",
    "Abecedario = 'AÁaáBbCcDdEÉeéFfGgHhIÍiíJjKkLlMmNnÑñOÓoóPpQqRrSsTtUÚÜuúüVvWwXxY\\\n",
    "yZz'\n",
    "Cadena = str(input(\"ingrese una cadena de texto: \"))\n",
    "\n",
    "Cadena = Cadena.replace(' ','')\n",
    "\n",
    "NuevaCad = \"\"\n",
    "for i in Abecedario:\n",
    "    for k in range(len(Cadena)):\n",
    "        if i == Cadena[k]:\n",
    "            NuevaCad += i\n",
    "print('El orden alfabético de la cadena',Cadena,'es: ', NuevaCad)"
   ]
  },
  {
   "cell_type": "code",
   "execution_count": 18,
   "metadata": {},
   "outputs": [
    {
     "name": "stdout",
     "output_type": "stream",
     "text": [
      "Ingrese la longitud de la lista de números enteros 5\n",
      "La longitud de la lista es:  5\n",
      "Ingrese los elementos de la lista de números enteros: 1\n",
      "Ingrese los elementos de la lista de números enteros: 2\n",
      "Ingrese los elementos de la lista de números enteros: 5\n",
      "Ingrese los elementos de la lista de números enteros: 5\n",
      "Ingrese los elementos de la lista de números enteros: 4\n",
      "La lista de números enteros ingresada es:  [1, 2, 5, 5, 4]\n",
      "Los números enteros que se repite exactamente 2 veces son [5]\n"
     ]
    }
   ],
   "source": [
    "'''Ejercicio Nro 15'''\n",
    "Lista = []\n",
    "\n",
    "while True:\n",
    "    try:\n",
    "        M = int(input('Ingrese la longitud de la lista de números enteros '))\n",
    "        if M > 0:\n",
    "            break\n",
    "        else: \n",
    "            print('La cantidad de elementos debe ser mayor a 0')\n",
    "    except ValueError:\n",
    "        print('La cantidad de elementos debe ser un número entero ')\n",
    "print('La longitud de la lista es: ',M)\n",
    "            \n",
    "for i in range (M):\n",
    "    while True:\n",
    "        \n",
    "        try:\n",
    "            N = int(input('Ingrese los elementos de la lista de números entero\\\n",
    "s: '))\n",
    "            Lista.append(N)\n",
    "            break\n",
    "        \n",
    "        except ValueError:\n",
    "            print('Debe ingresar números enteros')\n",
    "print('La lista de números enteros ingresada es: ',Lista)\n",
    "try: \n",
    "    \n",
    "    Repetidos = []\n",
    "    for k in range (min(Lista),max(Lista)+1):\n",
    "        if Lista.count(k) == 2:\n",
    "            Repetidos.append(k)\n",
    "    \n",
    "except ValueError:\n",
    "    print('ERROR, ingrese ÚNICAMENTE números enteros')\n",
    "print('Los números enteros que se repite exactamente 2 veces son', Repetidos)"
   ]
  },
  {
   "cell_type": "code",
   "execution_count": null,
   "metadata": {},
   "outputs": [],
   "source": [
    "'''Ejercicio Nro 16'''\n",
    "x = str(input('Ingrese una lista de números enteros ordenados, \\\n",
    "SEPARELOS POR COMAS: '))\n",
    "Lista = x.split(\",\")\n",
    "for i in range(len(Lista)):\n",
    "    Lista[i] = int(Lista[i])\n",
    "    \n",
    "Bandera = 1\n",
    "while Bandera == 1:\n",
    "    Bandera = 0\n",
    "    for i in range(1, len(Lista)):\n",
    "        if Lista[i-1] > Lista[i]:\n",
    "            Bandera = 1\n",
    "    if Bandera == 1:\n",
    "        print('La lista debe estar ordenada de forma ascendente, ingrese de \\\n",
    "nuevo')\n",
    "        x = str(input(\"Ingrese una lista de números enteros ordenados, \\\n",
    "SEPARELOS POR COMAS: \"))\n",
    "        Lista = x.split(\",\")\n",
    "        for i in range(len(Lista)):\n",
    "            Lista[i] = int(Lista[i])      \n",
    "\n",
    "y = int(input('Ingrese el número que desea agregar a la lista: '))\n",
    "\n",
    "if y >= max(Lista):\n",
    "    Lista.insert(len(Lista),y)\n",
    "else:\n",
    "    i = 0\n",
    "    while i < len(Lista):\n",
    "        if Lista[i] >= y:\n",
    "            Lista.insert(i,y)\n",
    "            i = len(Lista) + 1\n",
    "        i += 1\n",
    "print(\"La nueva lista es:\", Lista)"
   ]
  },
  {
   "cell_type": "code",
   "execution_count": null,
   "metadata": {},
   "outputs": [],
   "source": [
    "'''Ejercicio Nro 17'''\n",
    "x = str(input('Ingrese una lista de números enteros, debe separarlos por COMAS\\\n",
    " '))\n",
    "lista = x.split(',')\n",
    "for k in range(len(lista)):\n",
    "    lista[k] = int(lista[k])\n",
    "    \n",
    "y = tuple(lista)\n",
    "lista.remove(max(lista))\n",
    "\n",
    "max2 = max(lista)\n",
    "lista = list(y)\n",
    "print(f'El segundo valor mas grande de la lista {lista} es: {max2}')"
   ]
  }
 ],
 "metadata": {
  "kernelspec": {
   "display_name": "Python 3",
   "language": "python",
   "name": "python3"
  },
  "language_info": {
   "codemirror_mode": {
    "name": "ipython",
    "version": 3
   },
   "file_extension": ".py",
   "mimetype": "text/x-python",
   "name": "python",
   "nbconvert_exporter": "python",
   "pygments_lexer": "ipython3",
   "version": "3.7.3"
  }
 },
 "nbformat": 4,
 "nbformat_minor": 2
}
